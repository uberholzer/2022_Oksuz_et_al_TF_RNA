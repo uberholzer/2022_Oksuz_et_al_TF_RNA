{
 "cells": [
  {
   "cell_type": "code",
   "execution_count": 1,
   "id": "e936f5ba-022a-4eec-a2ac-9a2ff0941070",
   "metadata": {},
   "outputs": [],
   "source": [
    "# Written by Kalon Overholt\n",
    "# Young Lab\n",
    "# 1/13/2022\n",
    "# This script calculates binding isotherms for equilibrium protein-ligand interactions using a ligand depletion model"
   ]
  },
  {
   "cell_type": "code",
   "execution_count": 55,
   "id": "6b2bc517-2141-452a-9005-b696c49e38af",
   "metadata": {},
   "outputs": [],
   "source": [
    "# Import libraries\n",
    "import scipy as sp\n",
    "from pylab import *\n",
    "import numpy as np\n",
    "from matplotlib import pyplot as plt\n",
    "import pandas as pd\n",
    "import seaborn as sns\n",
    "import collections\n",
    "from IPython.display import clear_output\n",
    "import random\n",
    "sns.set_style(\"ticks\")\n",
    "from scipy.optimize import curve_fit"
   ]
  },
  {
   "cell_type": "code",
   "execution_count": 3,
   "id": "be3c324b-b88b-45b9-8491-a7e52af24e52",
   "metadata": {},
   "outputs": [],
   "source": [
    "# Define parameters\n",
    "L=10 # Ligand (RNA) concentration (nM)"
   ]
  },
  {
   "cell_type": "code",
   "execution_count": 170,
   "id": "5966b23b-a9ff-40d7-b05b-1443cf038a17",
   "metadata": {},
   "outputs": [],
   "source": [
    "# Create function handle\n",
    "def modelfun(x,b0,b1,b2):\n",
    "    return b1+(b2-b1)*(L+x+b0-np.sqrt((L+x+b0)**2-4*L*x))/(2*L)"
   ]
  },
  {
   "cell_type": "code",
   "execution_count": 300,
   "id": "efa2e677-ddee-4d19-afa1-c606bf828b7f",
   "metadata": {},
   "outputs": [],
   "source": [
    "# Read in data\n",
    "filename='220112_TF_motifDNA-analysis';\n",
    "T=pd.read_csv(filename+'.csv',header=None,index_col=0)\n",
    "proteins=pd.unique(T.index)\n",
    "\n",
    "nrows=size(T,0)\n",
    "\n",
    "i=0;\n",
    "j=0;\n",
    "k=3; # Number of replicates\n",
    "n=len(proteins);\n",
    "\n",
    "while i<nrows:\n",
    "\n",
    "    P=T.iloc[i,:]\n",
    "    P=P.to_numpy()\n",
    "    data=T.iloc[i+1:i+1+k,:]\n",
    "    Y=np.mean(data,axis=0)\n",
    "    \n",
    "    # Remove NANs\n",
    "#     P(:,all(~isnan(P)));\n",
    "#     Y(:,all(~isnan(Y)));\n",
    "    \n",
    "    # Fit model for fraction ligand bound\n",
    "    # Modeled by anisotropy when ligand is fluorescent\n",
    "\n",
    "    p0=[1000, 200, 400] #Define intial guess for the fit parameter for Kd\n",
    "    popt, pcov = curve_fit(modelfun,P,Y,p0)\n",
    "    \n",
    "    i=i+k+1; # Skip to the next protein\n",
    "    \n",
    "    p_sim = np.logspace(-2,4)\n",
    "    \n",
    "    b0=popt[0]\n",
    "    b1=popt[1]\n",
    "    b2=popt[2]\n",
    "    \n",
    "    anisotropy=modelfun(p_sim,b0,b1,b2)    \n",
    "    fb=(anisotropy-b1)/(b2-b1);\n",
    "    data_fb=(data-b1)/(b2-b1);\n",
    "    Y_fb=(Y-b1)/(b2-b1);\n",
    "\n",
    "    # Plot fraction bound isotherms\n",
    "    fig=plt.figure(figsize = (7,7))\n",
    "    ax = plt.axes()\n",
    "    P=P.transpose()\n",
    "    ax.plot(np.log10(p_sim),fb,'-',color='black',linewidth=0.5) # Plot fit curve\n",
    "    ax.plot(np.log10(P),data_fb.T,'.',color='black') # Plot data points\n",
    "    ax.errorbar(np.log10(P),Y_fb,np.std(data_fb,ddof=1),ecolor='black',elinewidth=0.5,capsize=2,ls='none') # Plot error bars with ddof=1 for sample standard deviation\n",
    "    ax.grid(False)\n",
    "    ax.set_facecolor('white')\n",
    "    ax.patch.set_edgecolor('black')  \n",
    "    ax.patch.set_linewidth('2')     \n",
    "    plt.xlabel('log([P]) (nM)')\n",
    "    plt.ylabel('Fraction Bound')\n",
    "    plt.xlim([-1, 4])\n",
    "    plt.ylim([-0.2, 1.5])\n",
    "    plt.title(proteins[j]+'\\n Kd =  '+str(round(b0))+' nM')\n",
    "    plt.show()\n",
    "    \n",
    "    ax.figure.savefig(filename+proteins[j]+'.pdf',bbox_inches='tight')\n",
    "    \n",
    "    # Plotting anisotropy\n",
    "#         plotHandles(j)=plot(log10(p_sim),anisotropy,'-','Color',color);\n",
    "#         hold on\n",
    "#         plot(log10(P),data,'.','Color',color);\n",
    "#         errorbar(log10(P), Y, std(data), 'LineStyle','none','Color',color);\n",
    "#         xlabel('log([P]) (nM)','FontSize',14)\n",
    "#         ylabel('Anisotropy','FontSize',14)\n",
    "#         xlim([0 4])\n",
    "#         ylim([100 300])\n",
    "      \n",
    "    j=j+1;\n",
    "\n",
    "# If saving to one file\n",
    "# legend(plotHandles,proteins,'Location','northeastoutside','FontSize',14);\n",
    "# set(gcf, 'Position',  [100, 100, 700, 400])\n",
    "# saveas(gcf,strcat(filename,'.pdf'))\n"
   ]
  },
  {
   "cell_type": "code",
   "execution_count": null,
   "id": "1b567f59-7e74-4106-bd52-6fd69afd3774",
   "metadata": {},
   "outputs": [],
   "source": []
  }
 ],
 "metadata": {
  "kernelspec": {
   "display_name": "Python 3",
   "language": "python",
   "name": "python3"
  },
  "language_info": {
   "codemirror_mode": {
    "name": "ipython",
    "version": 3
   },
   "file_extension": ".py",
   "mimetype": "text/x-python",
   "name": "python",
   "nbconvert_exporter": "python",
   "pygments_lexer": "ipython3",
   "version": "3.8.8"
  }
 },
 "nbformat": 4,
 "nbformat_minor": 5
}
