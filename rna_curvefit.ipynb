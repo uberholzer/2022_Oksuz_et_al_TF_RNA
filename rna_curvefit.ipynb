{
 "cells": [
  {
   "cell_type": "code",
   "execution_count": 1,
   "id": "e936f5ba-022a-4eec-a2ac-9a2ff0941070",
   "metadata": {},
   "outputs": [],
   "source": [
    "# Written by Kalon Overholt\n",
    "# Young Lab\n",
    "# 7/18/2022\n",
    "# This script calculates binding isotherms obtained with fluorescent polarization data for equilibrium protein-ligand interactions using a ligand depletion model"
   ]
  },
  {
   "cell_type": "code",
   "execution_count": 2,
   "id": "6b2bc517-2141-452a-9005-b696c49e38af",
   "metadata": {},
   "outputs": [
    {
     "name": "stderr",
     "output_type": "stream",
     "text": [
      "C:\\Users\\13kov\\anaconda3\\lib\\site-packages\\scipy\\__init__.py:146: UserWarning: A NumPy version >=1.16.5 and <1.23.0 is required for this version of SciPy (detected version 1.23.1\n",
      "  warnings.warn(f\"A NumPy version >={np_minversion} and <{np_maxversion}\"\n"
     ]
    }
   ],
   "source": [
    "# Import libraries\n",
    "import scipy as sp\n",
    "import numpy as np\n",
    "import pandas as pd\n",
    "from IPython.display import clear_output\n",
    "import random\n",
    "from scipy.optimize import curve_fit\n",
    "from scipy.stats.distributions import  t\n",
    "\n",
    "import matplotlib as mpl\n",
    "mpl.use('Agg')\n",
    "mpl.rcParams['pdf.fonttype'] = 42\n",
    "mpl.rcParams['ps.fonttype'] = 42\n",
    "mpl.rcParams['text.usetex'] = False\n",
    "mpl.rcParams['font.sans-serif'] = 'Arial'\n",
    "mpl.rcParams['font.family'] = 'sans-serif'\n",
    "mpl.rcParams['figure.dpi'] = 300\n",
    "from matplotlib import pyplot as plt\n",
    "%matplotlib inline"
   ]
  },
  {
   "cell_type": "code",
   "execution_count": 3,
   "id": "be3c324b-b88b-45b9-8491-a7e52af24e52",
   "metadata": {},
   "outputs": [],
   "source": [
    "# Define parameters\n",
    "L=10 # Ligand (RNA) concentration (nM)"
   ]
  },
  {
   "cell_type": "code",
   "execution_count": 4,
   "id": "5966b23b-a9ff-40d7-b05b-1443cf038a17",
   "metadata": {},
   "outputs": [],
   "source": [
    "# Create function handle\n",
    "def modelfun(x,b0,b1,b2):\n",
    "    return b1+(b2-b1)*(L+x+b0-np.sqrt((L+x+b0)**2-4*L*x))/(2*L)"
   ]
  },
  {
   "cell_type": "code",
   "execution_count": 5,
   "id": "492fd013-2bd6-41a2-9b6b-31a03c25945f",
   "metadata": {},
   "outputs": [],
   "source": [
    "# From https://kitchingroup.cheme.cmu.edu/blog/2013/02/18/Nonlinear-curve-fitting-with-confidence-intervals/\n",
    "def nl_95_ci(pars, pcov,Y):\n",
    "    alpha = 0.05 # 95% confidence interval\n",
    "\n",
    "    n = len(Y)    # number of data points\n",
    "    p = len(pars) # number of parameters\n",
    "\n",
    "    dof = max(0, n-p) # number of degrees of freedom\n",
    "\n",
    "    tval = t.ppf(1.0 - alpha / 2.0, dof) # student-t value for the dof and confidence level\n",
    "\n",
    "    for i, p,var in zip(range(n), pars, np.diag(pcov)):\n",
    "        sigma = var**0.5\n",
    "        lb=p - sigma*tval\n",
    "        ub=p + sigma*tval\n",
    "        \n",
    "        if i==0:\n",
    "            ci_kd=[lb,ub]\n",
    "            sigma_kd=sigma\n",
    "            \n",
    "    return (ci_kd, sigma_kd)"
   ]
  },
  {
   "cell_type": "code",
   "execution_count": 6,
   "id": "efa2e677-ddee-4d19-afa1-c606bf828b7f",
   "metadata": {},
   "outputs": [
    {
     "name": "stderr",
     "output_type": "stream",
     "text": [
      "meta NOT subset; don't know how to subset; dropped\n",
      "C:\\Users\\13kov\\AppData\\Local\\Temp\\ipykernel_20424\\3011957399.py:3: RuntimeWarning: invalid value encountered in sqrt\n",
      "  return b1+(b2-b1)*(L+x+b0-np.sqrt((L+x+b0)**2-4*L*x))/(2*L)\n",
      "meta NOT subset; don't know how to subset; dropped\n"
     ]
    }
   ],
   "source": [
    "# Read in data\n",
    "filename='220713_FP_RNA_protein-analysis';\n",
    "T=pd.read_csv(filename+'.csv',header=None,index_col=0)\n",
    "proteins=pd.unique(T.index)\n",
    "\n",
    "nrows=np.size(T,0)\n",
    "\n",
    "i=0;\n",
    "j=0;\n",
    "k=3; # Number of replicates\n",
    "n=len(proteins);\n",
    "\n",
    "save = True # Whether to save the plots\n",
    "\n",
    "while i<nrows:\n",
    "\n",
    "    P=T.iloc[i,:]\n",
    "    P=P.to_numpy()\n",
    "    data=T.iloc[i+1:i+1+k,:]\n",
    "    Y=np.mean(data,axis=0)\n",
    "    \n",
    "    # Fit model for fraction ligand bound\n",
    "    # Modeled by anisotropy when ligand is fluorescent\n",
    "\n",
    "    p0=[1000, 200, 400] #Define intial guess for the fit parameter for Kd\n",
    "    popt, pcov = curve_fit(modelfun,P,Y,p0)\n",
    "    b0=popt[0]\n",
    "    b1=popt[1]\n",
    "    b2=popt[2]\n",
    "    kd=round(b0)\n",
    "    \n",
    "    # Calculate confidence intervals\n",
    "    (ci_kd,sigma_kd)=nl_95_ci(popt, pcov,Y)\n",
    "    pm=round(ci_kd[1]-kd)\n",
    "    \n",
    "    i=i+k+1; # Skip to the next protein\n",
    "    \n",
    "    p_sim = np.logspace(0,4)\n",
    "    \n",
    "    anisotropy=modelfun(p_sim,b0,b1,b2)    \n",
    "    fb=(anisotropy-b1)/(b2-b1)\n",
    "    data_fb=(data-b1)/(b2-b1)\n",
    "    Y_fb=(Y-b1)/(b2-b1)\n",
    "    \n",
    "    data_fb=data_fb.to_numpy()\n",
    "    stdevs=np.std(data_fb,axis=0,ddof=1)\n",
    "\n",
    "    # Plot fraction bound isotherms\n",
    "    fig, ax = plt.subplots(1, 1, figsize=(5,5))\n",
    "    \n",
    "    ax.plot(np.log10(p_sim),fb,'-',color='k',linewidth=1) # Plot fit curve\n",
    "    ax.plot(np.log10(P), marker='.', color='k', linewidth=0) # Plot data points\n",
    "    ax.plot(np.log10(P),data_fb.T, marker='.', color='k', linewidth=0) # Plot data points\n",
    "    ax.errorbar(np.log10(P),Y_fb,stdevs,ecolor='black',elinewidth=0.5,capsize=2,ls='none') # Plot error bars with ddof=1 for sample standard deviation\n",
    "\n",
    "    # With this way of putting in the text, the size of the plot doesn't change because of the title\n",
    "    ax.text(0.3, 0.8, f'Kd = {str(kd)} \\u00B1 {str(pm)} nM (95% CI) \\n {str(kd)} \\u00B1 {str(round(sigma_kd))} nM (stdev)', horizontalalignment='center', transform=ax.transAxes) # text is placed according to axes coordinates\n",
    "\n",
    "    ax.set_xlim([-0.5, 4])\n",
    "    ax.set_ylim([-0.4, 1.2])\n",
    "\n",
    "    ax.set_xlabel('log([P]) (nM)')\n",
    "    ax.set_ylabel('Fraction bound')\n",
    "\n",
    "    fig.tight_layout()\n",
    "\n",
    "    if save:\n",
    "        pass\n",
    "        plt.savefig(filename+proteins[j]+'.pdf',bbox_inches='tight')\n",
    "        plt.close()\n",
    "    else:\n",
    "        plt.show()\n",
    "\n",
    "    \n",
    "    # Plotting anisotropy\n",
    "#         plotHandles(j)=plot(log10(p_sim),anisotropy,'-','Color',color);\n",
    "#         hold on\n",
    "#         plot(log10(P),data,'.','Color',color);\n",
    "#         errorbar(log10(P), Y, std(data), 'LineStyle','none','Color',color);\n",
    "#         xlabel('log([P]) (nM)','FontSize',14)\n",
    "#         ylabel('Anisotropy','FontSize',14)\n",
    "#         xlim([0 4])\n",
    "#         ylim([100 300])\n",
    "      \n",
    "    j=j+1;"
   ]
  },
  {
   "cell_type": "code",
   "execution_count": null,
   "id": "e54d67ca-1aac-46d1-9d8d-f95161866681",
   "metadata": {},
   "outputs": [],
   "source": []
  }
 ],
 "metadata": {
  "kernelspec": {
   "display_name": "Python 3 (ipykernel)",
   "language": "python",
   "name": "python3"
  },
  "language_info": {
   "codemirror_mode": {
    "name": "ipython",
    "version": 3
   },
   "file_extension": ".py",
   "mimetype": "text/x-python",
   "name": "python",
   "nbconvert_exporter": "python",
   "pygments_lexer": "ipython3",
   "version": "3.8.13"
  }
 },
 "nbformat": 4,
 "nbformat_minor": 5
}
