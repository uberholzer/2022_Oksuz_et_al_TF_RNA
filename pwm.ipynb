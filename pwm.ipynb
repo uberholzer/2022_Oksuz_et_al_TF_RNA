{
 "cells": [
  {
   "cell_type": "markdown",
   "id": "e50821b5-2771-48ae-a047-a10bba165cff",
   "metadata": {},
   "source": [
    "# Construct position-weight matrix for ARM-like motifs"
   ]
  },
  {
   "cell_type": "code",
   "execution_count": 1,
   "id": "4888deaf-7522-41f1-814a-ac304d02845a",
   "metadata": {},
   "outputs": [],
   "source": [
    "import matplotlib as mpl\n",
    "# mpl.use('Agg')\n",
    "mpl.rcParams['pdf.fonttype'] = 42\n",
    "mpl.rcParams['ps.fonttype'] = 42\n",
    "mpl.rcParams['text.usetex'] = False\n",
    "mpl.rcParams['font.sans-serif'] = 'Arial'\n",
    "mpl.rcParams['font.family'] = 'sans-serif'\n",
    "mpl.rcParams['figure.dpi'] = 300\n",
    "mpl.rcParams['image.interpolation'] = 'none'\n",
    "\n",
    "import os, re\n",
    "from pathlib import Path\n",
    "import numpy as np\n",
    "import pandas as pd\n",
    "from matplotlib import pyplot as plt\n",
    "from pprint import pprint\n",
    "import scipy\n",
    "import seaborn as sns\n",
    "\n",
    "from Bio import SeqIO\n",
    "from Bio import motifs\n",
    "\n",
    "from scipy.interpolate import UnivariateSpline\n",
    "import matplotlib.transforms as mtransforms\n",
    "from matplotlib.patches import FancyBboxPatch\n",
    "\n",
    "import metapredict as meta\n",
    "\n",
    "%matplotlib inline"
   ]
  },
  {
   "cell_type": "code",
   "execution_count": 2,
   "id": "947c1c95-4464-4530-b92c-90ca234bdfcb",
   "metadata": {},
   "outputs": [],
   "source": [
    "tf_df = pd.read_csv('TF_full_update.csv')\n",
    "seqs = tf_df['Subsequence'].tolist()\n",
    "\n",
    "# Filter out anything not a 9-mer (need to look at this in the otehr script)\n",
    "seqs = [x for x in seqs if len(x)==9]"
   ]
  },
  {
   "cell_type": "code",
   "execution_count": 26,
   "id": "7e9fcd62-0dbe-4edc-bf5d-eb7f7a93f2ab",
   "metadata": {
    "tags": []
   },
   "outputs": [],
   "source": [
    "# Create motifs https://biopython-cn.readthedocs.io/zh_CN/latest/en/chr14.html\n",
    "# Create sequence logos # https://weblogo.readthedocs.io/en/latest/logo.html\n",
    "\n",
    "motif1 = motifs.create(seqs,'ARNDCEQGHILKMFPSTWYV')\n",
    "motif1.weblogo(\"seq_logo1.pdf\",format=\"pdf\",yaxis_scale=4,show_errorbars=False,show_xaxis=False,show_ends=False,show_fineprint=False)\n",
    "\n",
    "rm_r = [(x[0:4]+x[5:10]) for x in seqs] # Remove the middle R\n",
    "motif2 = motifs.create(rm_r,'ARNDCEQGHILKMFPSTWYV')\n",
    "motif2.weblogo(\"seq_logo2.pdf\",format=\"pdf\",yaxis_scale=0.5,show_errorbars=False,show_xaxis=False,show_ends=False,show_fineprint=False)"
   ]
  },
  {
   "cell_type": "code",
   "execution_count": 8,
   "id": "2a27f52f-8aa4-49b3-93ac-286e071689c5",
   "metadata": {},
   "outputs": [
    {
     "name": "stdout",
     "output_type": "stream",
     "text": [
      "        0      1      2      3      4      5      6      7      8\n",
      "A:   0.06   0.06   0.05   0.05   0.00   0.05   0.05   0.05   0.06\n",
      "R:   0.18   0.20   0.24   0.22   1.00   0.14   0.24   0.19   0.18\n",
      "N:   0.03   0.02   0.03   0.02   0.00   0.03   0.02   0.02   0.03\n",
      "D:   0.03   0.03   0.02   0.02   0.00   0.04   0.02   0.03   0.04\n",
      "C:   0.01   0.01   0.01   0.01   0.00   0.01   0.01   0.01   0.02\n",
      "E:   0.06   0.07   0.05   0.06   0.00   0.07   0.05   0.06   0.07\n",
      "Q:   0.04   0.04   0.04   0.04   0.00   0.05   0.04   0.04   0.03\n",
      "G:   0.06   0.06   0.06   0.07   0.00   0.07   0.05   0.07   0.06\n",
      "H:   0.02   0.02   0.04   0.02   0.00   0.04   0.04   0.02   0.02\n",
      "I:   0.02   0.02   0.02   0.02   0.00   0.03   0.02   0.02   0.02\n",
      "L:   0.05   0.04   0.06   0.05   0.00   0.05   0.05   0.05   0.05\n",
      "K:   0.15   0.17   0.16   0.19   0.00   0.12   0.16   0.15   0.13\n",
      "M:   0.02   0.01   0.01   0.01   0.00   0.01   0.01   0.01   0.01\n",
      "F:   0.02   0.02   0.02   0.02   0.00   0.02   0.02   0.03   0.02\n",
      "P:   0.08   0.06   0.06   0.07   0.00   0.08   0.06   0.06   0.07\n",
      "S:   0.08   0.07   0.06   0.06   0.00   0.08   0.07   0.07   0.08\n",
      "T:   0.04   0.03   0.03   0.03   0.00   0.05   0.04   0.05   0.06\n",
      "W:   0.01   0.01   0.01   0.00   0.00   0.01   0.01   0.01   0.01\n",
      "Y:   0.01   0.02   0.01   0.02   0.00   0.02   0.02   0.02   0.02\n",
      "V:   0.04   0.03   0.03   0.02   0.00   0.03   0.03   0.03   0.03\n",
      "\n"
     ]
    }
   ],
   "source": [
    "pwm = motif1.counts.normalize()\n",
    "print(pwm)"
   ]
  },
  {
   "cell_type": "code",
   "execution_count": null,
   "id": "bb24b2c0-bc29-42aa-93f4-aee527291cf6",
   "metadata": {},
   "outputs": [],
   "source": []
  }
 ],
 "metadata": {
  "kernelspec": {
   "display_name": "Python 3",
   "language": "python",
   "name": "python3"
  },
  "language_info": {
   "codemirror_mode": {
    "name": "ipython",
    "version": 3
   },
   "file_extension": ".py",
   "mimetype": "text/x-python",
   "name": "python",
   "nbconvert_exporter": "python",
   "pygments_lexer": "ipython3",
   "version": "3.8.8"
  }
 },
 "nbformat": 4,
 "nbformat_minor": 5
}
