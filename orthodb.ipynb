{
 "cells": [
  {
   "cell_type": "code",
   "execution_count": 20,
   "id": "6a3bf365-4a11-41c4-bbf9-b7c69cdc0b3e",
   "metadata": {},
   "outputs": [],
   "source": [
    "import wget \n",
    "import requests\n",
    "from bs4 import BeautifulSoup\n",
    "import pandas as pd"
   ]
  },
  {
   "cell_type": "code",
   "execution_count": 24,
   "id": "4a0c5c08-c98d-40f7-b153-346f6319bd96",
   "metadata": {},
   "outputs": [
    {
     "name": "stdout",
     "output_type": "stream",
     "text": [
      "100% [............................................................................] 283433 / 283433"
     ]
    }
   ],
   "source": [
    "df=pd.read_csv('uniprot_out_no_dups_symbol.csv',header=None)\n",
    "\n",
    "counter=0\n",
    "\n",
    "for i in range(572,len(df)):\n",
    "    [symbol,unid]=df.iloc[i]\n",
    "    \n",
    "    url = 'https://v10.orthodb.org//search?query='+unid+'%20'+symbol+'&level=7742'\n",
    "\n",
    "    str = requests.get(url).text\n",
    "    \n",
    "    oid=str.split('[')[1].split(']')[0].replace('\"','')\n",
    "    \n",
    "    if \",\" in oid:\n",
    "        print(\" Duplicate found and removed\")\n",
    "        counter=counter+1\n",
    "        continue\n",
    "\n",
    "    wget.download('https://v10.orthodb.org/fasta?id='+oid+'&species=',unid+'.fasta')"
   ]
  },
  {
   "cell_type": "code",
   "execution_count": null,
   "id": "96ffa3e4-c48f-49d4-9936-58437328ed38",
   "metadata": {},
   "outputs": [],
   "source": []
  }
 ],
 "metadata": {
  "kernelspec": {
   "display_name": "Python 3 (ipykernel)",
   "language": "python",
   "name": "python3"
  },
  "language_info": {
   "codemirror_mode": {
    "name": "ipython",
    "version": 3
   },
   "file_extension": ".py",
   "mimetype": "text/x-python",
   "name": "python",
   "nbconvert_exporter": "python",
   "pygments_lexer": "ipython3",
   "version": "3.8.13"
  }
 },
 "nbformat": 4,
 "nbformat_minor": 5
}
