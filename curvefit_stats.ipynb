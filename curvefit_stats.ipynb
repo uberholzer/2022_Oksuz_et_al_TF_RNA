{
 "cells": [
  {
   "cell_type": "code",
   "execution_count": 3,
   "id": "549f93a8-aacf-4dde-8c19-d65b6307b51a",
   "metadata": {},
   "outputs": [],
   "source": [
    "# Written by Kalon Overholt\n",
    "# Young Lab\n",
    "# 3/29/2022\n",
    "# This script calculates binding isotherms obtained with fluorescent polarization data for equilibrium protein-ligand interactions using a ligand depletion model"
   ]
  },
  {
   "cell_type": "code",
   "execution_count": 4,
   "id": "3ad6ef0d-4b12-4ea9-84ae-db5436f1cd96",
   "metadata": {},
   "outputs": [],
   "source": [
    "# Import libraries\n",
    "import scipy as sp\n",
    "from pylab import *\n",
    "import numpy as np\n",
    "import pandas as pd\n",
    "import seaborn as sns\n",
    "import collections\n",
    "from IPython.display import clear_output\n",
    "import random\n",
    "sns.set_style(\"ticks\")\n",
    "from scipy.optimize import curve_fit\n",
    "from scipy.stats.distributions import  t\n",
    "\n",
    "import matplotlib as mpl\n",
    "mpl.use('Agg')\n",
    "mpl.rcParams['pdf.fonttype'] = 42\n",
    "mpl.rcParams['ps.fonttype'] = 42\n",
    "mpl.rcParams['text.usetex'] = False\n",
    "mpl.rcParams['font.sans-serif'] = 'Arial'\n",
    "mpl.rcParams['font.family'] = 'sans-serif'\n",
    "mpl.rcParams['figure.dpi'] = 300\n",
    "from matplotlib import pyplot as plt\n",
    "%matplotlib inline"
   ]
  },
  {
   "cell_type": "code",
   "execution_count": 5,
   "id": "6abc7942-2b89-45b5-a566-78cb278bcfd7",
   "metadata": {},
   "outputs": [],
   "source": [
    "# Define parameters\n",
    "L=10 # Ligand (RNA) concentration (nM)"
   ]
  },
  {
   "cell_type": "code",
   "execution_count": 6,
   "id": "fa2709f7-874c-4b66-8da7-d628a6f447f9",
   "metadata": {},
   "outputs": [],
   "source": [
    "# Create function handle\n",
    "def modelfun(x,b0,b1,b2):\n",
    "    return b1+(b2-b1)*(L+x+b0-np.sqrt((L+x+b0)**2-4*L*x))/(2*L)"
   ]
  },
  {
   "cell_type": "code",
   "execution_count": 7,
   "id": "c809f394-aee8-4be3-a63d-5087692107bd",
   "metadata": {},
   "outputs": [],
   "source": [
    "# From https://kitchingroup.cheme.cmu.edu/blog/2013/02/18/Nonlinear-curve-fitting-with-confidence-intervals/\n",
    "def  nl_95_ci(pars, pcov,Y):\n",
    "    alpha = 0.05 # 95% confidence interval\n",
    "\n",
    "    n = len(Y)    # number of data points\n",
    "    p = len(pars) # number of parameters\n",
    "\n",
    "    dof = max(0, n-p) # number of degrees of freedom\n",
    "\n",
    "    tval = t.ppf(1.0 - alpha / 2.0, dof) # student-t value for the confidence level\n",
    "\n",
    "    # Iterate through the curve fit parameters and the diagonal elements of the covariance matrix\n",
    "    # The diagonals provide the variance of the parameter estimate\n",
    "    for i, p, var in zip(range(n), pars, np.diag(pcov)):\n",
    "        sigma = var**0.5\n",
    "        lb = p - sigma*tval\n",
    "        ub = p + sigma*tval\n",
    "        \n",
    "        if i==0:\n",
    "            ci_kd=[lb,ub]\n",
    "            sigma_kd=sigma\n",
    "            mean_kd=p\n",
    "            \n",
    "    return (sigma_kd,mean_kd)"
   ]
  },
  {
   "cell_type": "code",
   "execution_count": 12,
   "id": "01de909f-39c2-41d9-b3a6-6d6d5ba0d420",
   "metadata": {},
   "outputs": [],
   "source": [
    "def ttest_welch(sd1,sd2,mean1,mean2,n):\n",
    "    alpha = 0.05\n",
    "    \n",
    "    # Calculate variances\n",
    "    var1=sd1**2\n",
    "    var2=sd2**2\n",
    "    \n",
    "    sed = sqrt(var1/n + var2/n) # standard error on the difference between the samples\n",
    "    \n",
    "    t_stat = (mean1 - mean2) / sed # calculate the t-test statistic\n",
    "\n",
    "    # Degrees of freedom\n",
    "    df=(var1/n + var2/n)**2 / ( (var1/n)**2 / (n - 1) + (var2/n)**2 / (n - 1) )\n",
    "    \n",
    "    cv=t.ppf(1-alpha/2,df) # calculate the critical value\n",
    "\n",
    "    p = (1 - t.cdf(abs(t_stat), df))*2 # calculate the p-value\n",
    "\n",
    "    return (p, t_stat, cv,df)"
   ]
  },
  {
   "cell_type": "code",
   "execution_count": 13,
   "id": "03844089-7c71-4c68-b2d1-cbd3cdeaf8fc",
   "metadata": {},
   "outputs": [
    {
     "name": "stdout",
     "output_type": "stream",
     "text": [
      "Kd1: 809.6745242332491 Kd2: 2075.069801326464\n",
      "stdev1: 176.9209694395705 stdev2: 166.6790943788031\n",
      "Welch t-test p value: 0.0008516249981116442\n"
     ]
    }
   ],
   "source": [
    "# Read in data\n",
    "filename='RNA_stat_test';\n",
    "T=pd.read_csv(filename+'.csv',header=None,index_col=0)\n",
    "proteins=pd.unique(T.index)\n",
    "\n",
    "nrows=size(T,0)\n",
    "\n",
    "n=3; # Number of replicates\n",
    "\n",
    "P1=T.iloc[0,:]\n",
    "P1=P1.to_numpy()\n",
    "data1=T.iloc[1:1+n,:]\n",
    "Y1=np.mean(data1,axis=0)\n",
    "\n",
    "# Fit model for fraction ligand bound\n",
    "p0=[1000, 200, 400] #Define intial guess for the fit parameter for Kd\n",
    "popt1, pcov1 = curve_fit(modelfun,P1,Y1,p0)\n",
    "b0=popt1[0]\n",
    "b1=popt1[1]\n",
    "b2=popt1[2]\n",
    "kd_1=round(b0)\n",
    "\n",
    "# Calculate t-statistics for sample 1\n",
    "(sd1,mean1)= nl_95_ci(popt1, pcov1,Y1)\n",
    "\n",
    "P2=T.iloc[4,:]\n",
    "P2=P2.to_numpy()\n",
    "data2=T.iloc[5:5+n,:]\n",
    "Y2=np.mean(data2,axis=0)\n",
    "\n",
    "# Fit model for fraction ligand bound\n",
    "p0=[1000, 200, 400] #Define intial guess for the fit parameter for Kd\n",
    "popt2, pcov2 = curve_fit(modelfun,P2,Y2,p0)\n",
    "b0=popt2[0]\n",
    "b1=popt2[1]\n",
    "b2=popt2[2]\n",
    "kd_2=round(b0)\n",
    "\n",
    "# Calculate t-statistics for sample 2\n",
    "(sd2,mean2)= nl_95_ci(popt2, pcov2,Y2)\n",
    "\n",
    "# Conduct two-tailed t-test\n",
    "(p, t_stat, cv, df)=ttest_welch(sd1,sd2,mean1,mean2,n)\n",
    "\n",
    "print(f'Kd1: {mean1} Kd2: {mean2}')\n",
    "print(f'stdev1: {sd1} stdev2: {sd2}')\n",
    "print(f'Welch t-test p value: {p}')"
   ]
  },
  {
   "cell_type": "code",
   "execution_count": null,
   "id": "7a4fd826-d0d9-4214-9594-f4d546347802",
   "metadata": {},
   "outputs": [],
   "source": []
  }
 ],
 "metadata": {
  "kernelspec": {
   "display_name": "Python 3",
   "language": "python",
   "name": "python3"
  },
  "language_info": {
   "codemirror_mode": {
    "name": "ipython",
    "version": 3
   },
   "file_extension": ".py",
   "mimetype": "text/x-python",
   "name": "python",
   "nbconvert_exporter": "python",
   "pygments_lexer": "ipython3",
   "version": "3.8.8"
  }
 },
 "nbformat": 4,
 "nbformat_minor": 5
}
