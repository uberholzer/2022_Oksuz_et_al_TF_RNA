{
 "cells": [
  {
   "cell_type": "markdown",
   "id": "e9163091-b947-439e-b6a8-cea6c1ebd170",
   "metadata": {},
   "source": [
    "### This script digitizes sequences in the proteome and computes cross-correlations with a user-specified kernel"
   ]
  },
  {
   "cell_type": "code",
   "execution_count": 1,
   "id": "2c65c61d-26b4-4b34-a22c-df0e61909c9e",
   "metadata": {
    "tags": []
   },
   "outputs": [
    {
     "name": "stderr",
     "output_type": "stream",
     "text": [
      "C:\\Users\\13kov\\anaconda3\\envs\\metapredict_env\\lib\\site-packages\\tqdm\\auto.py:22: TqdmWarning: IProgress not found. Please update jupyter and ipywidgets. See https://ipywidgets.readthedocs.io/en/stable/user_install.html\n",
      "  from .autonotebook import tqdm as notebook_tqdm\n"
     ]
    },
    {
     "name": "stdout",
     "output_type": "stream",
     "text": [
      "v2.2\n"
     ]
    }
   ],
   "source": [
    "import matplotlib as mpl\n",
    "# mpl.use('Agg')\n",
    "mpl.rcParams['pdf.fonttype'] = 42\n",
    "mpl.rcParams['ps.fonttype'] = 42\n",
    "mpl.rcParams['text.usetex'] = False\n",
    "mpl.rcParams['font.sans-serif'] = 'Arial'\n",
    "mpl.rcParams['font.family'] = 'sans-serif'\n",
    "mpl.rcParams['figure.dpi'] = 300\n",
    "mpl.rcParams['image.interpolation'] = 'none'\n",
    "\n",
    "import os, re\n",
    "from pathlib import Path\n",
    "import numpy as np\n",
    "import pandas as pd\n",
    "from matplotlib import pyplot as plt\n",
    "from pprint import pprint\n",
    "import scipy\n",
    "import seaborn as sns\n",
    "\n",
    "from Bio import SeqIO\n",
    "from scipy.interpolate import UnivariateSpline\n",
    "import matplotlib.transforms as mtransforms\n",
    "from matplotlib.patches import FancyBboxPatch\n",
    "\n",
    "import metapredict as meta\n",
    "\n",
    "%matplotlib inline\n",
    "\n",
    "print(meta.__version__)"
   ]
  },
  {
   "cell_type": "code",
   "execution_count": 2,
   "id": "22e9b088-15d0-4e09-afb9-b8343627a26a",
   "metadata": {
    "tags": []
   },
   "outputs": [],
   "source": [
    "fasta_path = Path('uniprot-reviewed_yes+AND+proteome_up000005640.fasta')\n",
    "output_path = Path('/Users/13kov/Jupyter code/TF-RNA/ARM_search')\n",
    "\n",
    "if not output_path.is_dir():\n",
    "    output_path.mkdir()"
   ]
  },
  {
   "cell_type": "code",
   "execution_count": 3,
   "id": "d05e1f9b-3da5-4ffd-910a-954b529a54f3",
   "metadata": {
    "tags": []
   },
   "outputs": [],
   "source": [
    "def calc_tat_corr(seq): \n",
    "    # For correlation task, the TAT ARM sequence is: 49-RKKRRQRRR-57 and there may be two critical R’s, R52 and R53. R53 seems to be the most critical.\n",
    "    # I would suggest creating a kernel that looks something like:\n",
    "    # [111RR0111] - where the non-critical R/K’s are treated as generic + charges, the critical R’s have to be R’s, and the Q is a neutral amino acid\n",
    "    # and also try: [1111R0111] - where only R53 is treated as critical\n",
    "\n",
    "    # Define kernel\n",
    "    # 1 represents a positive AA, 0  represents a neutral AA\n",
    "    ker=[1, 1, 1, 1, 1, 0, 1, 1, 1] # For Q=0\n",
    "#     ker=[1, 1, 1, 1, 1, 1, 1, 1, 1] # For Q=1\n",
    "    kmer = len(ker)\n",
    "    \n",
    "    # For filtering only on disordered regions\n",
    "    disorder_scores, disorder_regions = calc_disorder(seq)\n",
    "    disorder_threshold = 0.2 # Value of 0.2 suggested by Salman\n",
    "    \n",
    "     # Digitize the sequence based on charge to get a signal\n",
    "    sig=np.zeros(len(seq)).astype(int)\n",
    "    \n",
    "    for j, val in enumerate(seq):\n",
    "        if ((val=='R' or val=='K') and disorder_scores[j] >= disorder_threshold):\n",
    "            sig[j]=1\n",
    "        else:\n",
    "            sig[j]=0\n",
    "            \n",
    "    # Compute the cross-correlation\n",
    "    # Note that length of xcorr_vect will be 8 plus the length of the signal\n",
    "    xcorr_vect=scipy.signal.correlate(sig, ker, mode='full', method='direct')\n",
    "    \n",
    "    R_sig=np.zeros(len(seq)).astype(int)\n",
    "    \n",
    "    for j, val in enumerate(seq):\n",
    "        if ((val=='R') and disorder_scores[j] >= disorder_threshold):\n",
    "            R_sig[j]=1\n",
    "        else:\n",
    "            R_sig[j]=0\n",
    "            \n",
    "    ker_R=[1, 1, 1, 1, 1, 1, 1, 1, 1]\n",
    "    xcorr_R=scipy.signal.correlate(R_sig, ker_R, mode='full', method='direct')        \n",
    "    xcorr_R[xcorr_R>=1]=1\n",
    "    \n",
    "    filt_vect=xcorr_vect*xcorr_R\n",
    "\n",
    "    max_corr=np.max(filt_vect)\n",
    "    sum_score=np.sum(filt_vect)\n",
    "                \n",
    "    return filt_vect, max_corr, sum_score"
   ]
  },
  {
   "cell_type": "code",
   "execution_count": 4,
   "id": "a4f1c21e-9c58-4994-b215-51f8adfe7fab",
   "metadata": {
    "tags": []
   },
   "outputs": [],
   "source": [
    "def calc_disorder(seq):\n",
    "    predictor = meta.predict_disorder_domains(seq)\n",
    "    \n",
    "    score = predictor.disorder\n",
    "    regions = predictor.disordered_domain_boundaries\n",
    "    \n",
    "    return score, regions"
   ]
  },
  {
   "cell_type": "code",
   "execution_count": 5,
   "id": "da67332d-90c8-4c45-94b4-675191a0c15f",
   "metadata": {},
   "outputs": [
    {
     "name": "stdout",
     "output_type": "stream",
     "text": [
      "Found 2 entries for DDIT3\n",
      "Found 2 entries for ZNF365\n",
      "Found 2 entries for CUX1\n",
      "TF max correlation file printed\n"
     ]
    }
   ],
   "source": [
    "TF_df = pd.read_csv('TF_list.csv',header=None).T\n",
    "TF_query_list=TF_df.loc[0].tolist()\n",
    "TF_full_df = pd.DataFrame()\n",
    "\n",
    "TF_output = {} # Declare dictionary\n",
    "\n",
    "for query in TF_query_list:\n",
    "#     print(query)\n",
    "    count = 0\n",
    "    with open(fasta_path, 'r') as file:\n",
    "        for record in SeqIO.parse(file, \"fasta\"):\n",
    "            description = record.description\n",
    "#             print(description)\n",
    "            gene_name = description[(description.find(\"GN=\")+3):description.find(\" PE\")]\n",
    "#             print(gene_name)\n",
    "            if query == gene_name:\n",
    "#                 print(f'Found {query} in {record.id}')  # This helps to see if there are multiple records for the same gene\n",
    "                ident = record.id\n",
    "                seq = str(record.seq).replace('U', 'C') # Replace U (selenocysteine) with C (cysteine)\n",
    "                count += 1\n",
    "                \n",
    "                # Make sure this if statement is one level down from the above\n",
    "                if count > 1:\n",
    "                    print(f'Found {count} entries for {query}')\n",
    "                elif count < 1:\n",
    "                #         raise Exception(f'Could not find entry for {query} in fasta file')\n",
    "                    print(f'Could not find entry for {query} in fasta file')\n",
    "                    \n",
    "                else:\n",
    "                    try:\n",
    "                        # TAT correlation\n",
    "                        xcorr_vect, max_corr, sum_score = calc_tat_corr(seq)\n",
    "                        TF_output[gene_name]=max_corr # Add max cross-correlation to dictionary\n",
    "\n",
    "                    except:\n",
    "                        print(f'Error thrown by {gene_name}')\n",
    "                                    \n",
    "# Maximum xcorr\n",
    "TF_maxcorr_df=pd.DataFrame.from_dict(TF_output,orient='index',columns=['max_corr'])\n",
    "TF_maxcorr_df.to_csv('TF_maxcorr.csv')\n",
    "print('TF max correlation file printed')"
   ]
  },
  {
   "cell_type": "code",
   "execution_count": 6,
   "id": "c9200ec8-214a-4cf1-8a09-5ab158ce614c",
   "metadata": {
    "tags": []
   },
   "outputs": [
    {
     "name": "stdout",
     "output_type": "stream",
     "text": [
      "Warning: length of disorder [24] is <= window_size [24]. This happens when you have a small IDR relative to the minimum IDR size. Updating windowsize to match sequence length.\n",
      "Warning: length of disorder [16] is <= window_size [24]. This happens when you have a small IDR relative to the minimum IDR size. Updating windowsize to match sequence length.\n",
      "Warning: length of disorder [12] is <= window_size [24]. This happens when you have a small IDR relative to the minimum IDR size. Updating windowsize to match sequence length.\n",
      "Warning: length of disorder [24] is <= window_size [24]. This happens when you have a small IDR relative to the minimum IDR size. Updating windowsize to match sequence length.\n",
      "Warning: length of disorder [24] is <= window_size [24]. This happens when you have a small IDR relative to the minimum IDR size. Updating windowsize to match sequence length.\n",
      "Warning: length of disorder [24] is <= window_size [24]. This happens when you have a small IDR relative to the minimum IDR size. Updating windowsize to match sequence length.\n",
      "Warning: length of disorder [24] is <= window_size [24]. This happens when you have a small IDR relative to the minimum IDR size. Updating windowsize to match sequence length.\n",
      "Warning: length of disorder [24] is <= window_size [24]. This happens when you have a small IDR relative to the minimum IDR size. Updating windowsize to match sequence length.\n",
      "Warning: length of disorder [24] is <= window_size [24]. This happens when you have a small IDR relative to the minimum IDR size. Updating windowsize to match sequence length.\n",
      "Warning: length of disorder [21] is <= window_size [24]. This happens when you have a small IDR relative to the minimum IDR size. Updating windowsize to match sequence length.\n",
      "Warning: length of disorder [16] is <= window_size [24]. This happens when you have a small IDR relative to the minimum IDR size. Updating windowsize to match sequence length.\n",
      "Warning: length of disorder [4] is <= window_size [24]. This happens when you have a small IDR relative to the minimum IDR size. Updating windowsize to match sequence length.\n",
      "Warning: length of disorder [16] is <= window_size [24]. This happens when you have a small IDR relative to the minimum IDR size. Updating windowsize to match sequence length.\n",
      "Warning: length of disorder [20] is <= window_size [24]. This happens when you have a small IDR relative to the minimum IDR size. Updating windowsize to match sequence length.\n",
      "Warning: length of disorder [20] is <= window_size [24]. This happens when you have a small IDR relative to the minimum IDR size. Updating windowsize to match sequence length.\n",
      "Warning: length of disorder [16] is <= window_size [24]. This happens when you have a small IDR relative to the minimum IDR size. Updating windowsize to match sequence length.\n",
      "Warning: length of disorder [15] is <= window_size [24]. This happens when you have a small IDR relative to the minimum IDR size. Updating windowsize to match sequence length.\n",
      "Warning: length of disorder [16] is <= window_size [24]. This happens when you have a small IDR relative to the minimum IDR size. Updating windowsize to match sequence length.\n",
      "Warning: length of disorder [2] is <= window_size [24]. This happens when you have a small IDR relative to the minimum IDR size. Updating windowsize to match sequence length.\n",
      "Warning: length of disorder [17] is <= window_size [24]. This happens when you have a small IDR relative to the minimum IDR size. Updating windowsize to match sequence length.\n",
      "Warning: length of disorder [16] is <= window_size [24]. This happens when you have a small IDR relative to the minimum IDR size. Updating windowsize to match sequence length.\n",
      "Warning: length of disorder [16] is <= window_size [24]. This happens when you have a small IDR relative to the minimum IDR size. Updating windowsize to match sequence length.\n",
      "Warning: length of disorder [15] is <= window_size [24]. This happens when you have a small IDR relative to the minimum IDR size. Updating windowsize to match sequence length.\n",
      "Warning: length of disorder [5] is <= window_size [24]. This happens when you have a small IDR relative to the minimum IDR size. Updating windowsize to match sequence length.\n",
      "Warning: length of disorder [24] is <= window_size [24]. This happens when you have a small IDR relative to the minimum IDR size. Updating windowsize to match sequence length.\n",
      "Warning: length of disorder [17] is <= window_size [24]. This happens when you have a small IDR relative to the minimum IDR size. Updating windowsize to match sequence length.\n",
      "Warning: length of disorder [24] is <= window_size [24]. This happens when you have a small IDR relative to the minimum IDR size. Updating windowsize to match sequence length.\n",
      "Warning: length of disorder [24] is <= window_size [24]. This happens when you have a small IDR relative to the minimum IDR size. Updating windowsize to match sequence length.\n",
      "Warning: length of disorder [24] is <= window_size [24]. This happens when you have a small IDR relative to the minimum IDR size. Updating windowsize to match sequence length.\n",
      "Proteome file printed\n"
     ]
    }
   ],
   "source": [
    "proteome_output = {} # Declare dictionary for maxcorr\n",
    "\n",
    "with open(fasta_path, 'r') as file:\n",
    "    # Get proteome gene list from fasta file\n",
    "    for record in SeqIO.parse(file, \"fasta\"):\n",
    "        description = record.description\n",
    "        gene_name = description[(description.find(\"GN=\")+3):description.find(\" PE\")]\n",
    "        seq = str(record.seq).replace('U', 'C') # Replace U (selenocysteine) with C (cysteine)\n",
    "          \n",
    "    # To do: Include a column for the uniprot ID in the record.id  \n",
    "        \n",
    "        try:\n",
    "            xcorr_vect, max_corr, sum_score  = calc_tat_corr(seq)\n",
    "            proteome_output[gene_name] = max_corr\n",
    "            \n",
    "        except:\n",
    "            print(f'Error thrown by {gene_name}')\n",
    "\n",
    "# Maximum xcorr\n",
    "proteome_intscore_df=pd.DataFrame.from_dict(proteome_output,orient='index',columns=['max_corr'])\n",
    "proteome_intscore_df.to_csv('proteome_maxcorr.csv')\n",
    "print('Proteome file printed')"
   ]
  },
  {
   "cell_type": "code",
   "execution_count": 7,
   "id": "5af48609-e79c-4695-b51b-15fb70378279",
   "metadata": {
    "tags": []
   },
   "outputs": [],
   "source": [
    "prot_df = pd.read_csv('proteome_maxcorr.csv',index_col=0)\n",
    "# RBP_df = pd.read_csv('RBP_list.csv',index_col=0)\n",
    "TF_df = pd.read_csv('TF_maxcorr.csv',index_col=0)\n",
    "\n",
    "# Filter TFs out of the whole proteome df\n",
    "prot_index = prot_df.index\n",
    "TF_index = TF_df.index\n",
    "mask1 = ~prot_index.isin(TF_index)\n",
    "mask2= prot_index.isin(TF_index)\n",
    "prot_filt = prot_df.loc[mask1]\n",
    "TF_only=prot_df.loc[mask2]\n",
    "\n",
    "# Filter TFs out of the RBP df\n",
    "# RBP_index = RBP_df.index\n",
    "# mask3 = prot_index.isin(RBP_index)\n",
    "# RBP_only = prot_df.loc[mask3]\n",
    "\n",
    "prot_filt.to_csv('proteome_maxcorr_TFfilt.csv')\n",
    "# TF_only.to_csv('TF_maxcorr.csv')\n",
    "# RBP_only.to_csv('RBP_intscore.csv')"
   ]
  },
  {
   "cell_type": "code",
   "execution_count": 8,
   "id": "8858843a-f378-40df-bdd2-d85774df4e8a",
   "metadata": {},
   "outputs": [],
   "source": [
    "# # Make figures\n",
    "# fig=plt.figure(figsize = (8,10))\n",
    "# ax = plt.axes()\n",
    "# im=sns.violinplot(data = [TF_df['max_corr'].values,RBP_filt['max_corr'].values,prot_filt['max_corr'].values],palette=\"light:#4CB391\", scale='width', ax=ax)\n",
    "# im.set_xticklabels(['TFs','RBPs (-TFs)','Proteome (-TFs)'],fontsize=15)\n",
    "# im.set_ylabel(\"Max Cross-Correlation\", fontsize = 15)\n",
    "# ax.grid(False)\n",
    "# ax.set_facecolor('white')\n",
    "# ax.patch.set_edgecolor('black')  \n",
    "# ax.patch.set_linewidth('2') \n",
    "# ax.figure.savefig('maxcorr_violins.pdf',bbox_inches='tight')\n",
    "# plt.show()\n",
    "\n",
    "# fig=plt.figure(figsize = (8,10))\n",
    "# ax = plt.axes()\n",
    "# im=sns.boxplot(data = [TF_df['max_corr'].values,RBP_filt['max_corr'].values,prot_filt['max_corr'].values],ax=ax,showfliers=False)\n",
    "# im.set_xticklabels(['TFs','RBPs (-TFs)','Proteome (-TFs)'],fontsize=15)\n",
    "# im.set_ylabel(\"Max Cross-Correlation\", fontsize = 15)\n",
    "# ax.grid(False)\n",
    "# ax.set_facecolor('white')\n",
    "# ax.patch.set_edgecolor('black')  \n",
    "# ax.patch.set_linewidth('2') \n",
    "# ax.figure.savefig('maxcorr_boxplots.pdf',bbox_inches='tight')\n",
    "# plt.show()\n",
    "\n",
    "# fig=plt.figure(figsize = (8,10))\n",
    "# ax = plt.axes()\n",
    "# im=sns.stripplot(data = [TF_df['max_corr'].values,RBP_filt['max_corr'].values,prot_filt['max_corr'].values],ax=ax)\n",
    "# im.set_xticklabels(['TFs','RBPs (-TFs)','Proteome (-TFs)'],fontsize=15)\n",
    "# im.set_ylabel(\"Max Cross-Correlation\", fontsize = 15)\n",
    "# ax.grid(False)\n",
    "# ax.set_facecolor('white')\n",
    "# ax.patch.set_edgecolor('black')  \n",
    "# ax.patch.set_linewidth('2') \n",
    "# ax.figure.savefig('maxcorr_stripplots.pdf',bbox_inches='tight')\n",
    "# plt.show()"
   ]
  },
  {
   "cell_type": "code",
   "execution_count": 9,
   "id": "ed50a0fc-3d8e-49bd-96ae-a4b75893655a",
   "metadata": {
    "tags": []
   },
   "outputs": [],
   "source": [
    "# # https://medium.com/analytics-vidhya/love-the-ocean-love-seaborn-2e8737bef728\n",
    "\n",
    "# df = pd.concat([TF_df,RBP_filt,prot_filt],keys=['TFs', 'RBPs (-TFs)','Proteome (-TFs)']).reset_index()\n",
    "\n",
    "# sns.set(style=\"white\", rc={\"axes.facecolor\": (0, 0, 0, 0)})\n",
    "\n",
    "# # Initialize the FacetGrid object\n",
    "# n=5 # Number of ridges to plot\n",
    "# pal = sns.cubehelix_palette(n, rot=-.25, light=.7)\n",
    "# g = sns.FacetGrid(df, row=\"level_0\", hue=\"level_0\", \n",
    "#                   aspect=10, height=1.0, palette=pal)\n",
    "\n",
    "# # Draw the densities in a few steps\n",
    "# g.map(sns.kdeplot, \"max_corr\", clip_on=False, shade=True, alpha=1, lw=1.5, bw=.2)\n",
    "# g.map(plt.axhline, y=0, lw=2, clip_on=False)\n",
    "\n",
    "# # Define and use a simple function to label the plot in axes coordinates\n",
    "# def label(x, color, label):\n",
    "#     ax = plt.gca()\n",
    "#     ax.text(0, .2, label, fontweight=\"bold\", color=color,\n",
    "#             ha=\"left\", va=\"center\", transform=ax.transAxes)\n",
    "# g.map(label, \"max_corr\")\n",
    "\n",
    "# # Set the subplots to overlap\n",
    "# g.fig.subplots_adjust(hspace=-.55)\n",
    "\n",
    "# # Remove axes details that don't play well with overlap\n",
    "# g.set_titles(\"\")\n",
    "# g.set(yticks=[])\n",
    "# g.despine(bottom=True, left=True)\n",
    "\n",
    "# g.savefig('maxcorr_ridgeplots.pdf',bbox_inches='tight')"
   ]
  },
  {
   "cell_type": "code",
   "execution_count": null,
   "id": "ecad3dfb-c29a-4761-ba90-6b878d56d22a",
   "metadata": {},
   "outputs": [],
   "source": []
  }
 ],
 "metadata": {
  "kernelspec": {
   "display_name": "metapredict_env",
   "language": "python",
   "name": "metapredict_env"
  },
  "language_info": {
   "codemirror_mode": {
    "name": "ipython",
    "version": 3
   },
   "file_extension": ".py",
   "mimetype": "text/x-python",
   "name": "python",
   "nbconvert_exporter": "python",
   "pygments_lexer": "ipython3",
   "version": "3.7.13"
  }
 },
 "nbformat": 4,
 "nbformat_minor": 5
}
